{
 "cells": [
  {
   "cell_type": "markdown",
   "metadata": {},
   "source": [
    "## Numerical Methods Week 4\n",
    "# Interpolation I\n",
    "## Based on Tim Sauer's \"Numerical Analysis\" (Chapter 3, 3.1-3.2)"
   ]
  },
  {
   "cell_type": "markdown",
   "metadata": {},
   "source": [
    "#### 3.0 Importing required Python modules"
   ]
  },
  {
   "cell_type": "code",
   "execution_count": 1,
   "metadata": {},
   "outputs": [],
   "source": [
    "from sympy import Symbol, simplify, lambdify, Rational, Poly, poly, latex, factor, expr\n",
    "import numpy as np\n",
    "import matplotlib.pyplot as plt\n",
    "from functools import reduce\n",
    "import operator"
   ]
  },
  {
   "cell_type": "markdown",
   "metadata": {},
   "source": [
    "## 3.1 Data and Interpolating Functions"
   ]
  },
  {
   "cell_type": "markdown",
   "metadata": {},
   "source": [
    "*Definition*. The function $y = P(x)$ **interpolates** the data points $(x_1,y_1), \\ldots,(x_n,y_n)$ in the plane if $P(x_i) = y_i$ for each $1 \\leq i \\leq n$. \n",
    "\n",
    "Notice that all the $x_i$'s need to be distinct!"
   ]
  },
  {
   "cell_type": "markdown",
   "metadata": {},
   "source": [
    "### 3.1.1 Lagrange polynomial interpolation"
   ]
  },
  {
   "cell_type": "markdown",
   "metadata": {},
   "source": [
    "Given three points $(x_1,y_1), (x_2,y_2), (x_3,y_3)$ in the plane, the **Lagrange interpolating polynomial** of degree two is:\n",
    "\n",
    "$$P_2(x) = y_1\\frac{(x - x_2)(x - x_3)}{(x_1 - x_2)(x_1 - x_3)} +\n",
    "y_2\\frac{(x - x_1)(x - x_3)}{(x_2 - x_1)(x_2 - x_3)} +\n",
    "y_3\\frac{(x - x_1)(x - x_2)}{(x_3 - x_1)(x_3 - x_2)}$$\n",
    "\n",
    "In general, given $n$ points $(x_1,y_1), \\ldots, (x_n,y_n)$ in the plane, for each $k = 1, \\ldots, n - 1$, define the $n - 1 $ degree polynomial:\n",
    "\n",
    "$$L_k(x) = \\frac{(x - x_1) \\cdots (x - x_{k-1})(x - x_{k+1}) \\cdots (x - x_n)}\n",
    "{(x_k - x_1) \\cdots (x_k - x_{k-1})(x_k - x_{k+1}) \\cdots (x_k - x_n)}$$\n",
    "\n",
    "Notice that $L_k(x_k) = 1$, while $L_k(x_j) = 0$, where $x_j$ is any of the other data points. Then define the degree $n − 1$ polynomial:\n",
    "\n",
    "$$P_{n-1}(x) = y_1 L_1(x) + \\cdots + y_n L_n(x)$$\n",
    "\n",
    "*Theorem*. (**Main Theorem of Polynomial Interpolation**.) Let $(x_1,y_1), \\ldots, (x_n,y_n)$ be $n$ points in the plane with distinct $x_i$. Then there exists one and only one polynomial $P$ of degree $n − 1$ or less that satisfies $P(x_i) = y_i$, for $i = 1, \\ldots, n$."
   ]
  },
  {
   "cell_type": "code",
   "execution_count": 2,
   "metadata": {},
   "outputs": [],
   "source": [
    "def interpolate_lagrange(x, x_values, y_values):\n",
    "    \"\"\"\n",
    "    x : value at which to evaluate y, should be between min and max x_values\n",
    "    x_values: list or numpy array containing values of x\n",
    "    y_values: list or numpy array contaning values of y\n",
    "    \"\"\"\n",
    "    def _basis(j):\n",
    "        p = [(x - x_values[m])/(x_values[j] - x_values[m]) for m in range(k) if m != j]\n",
    "        return reduce(operator.mul, p)\n",
    "    assert len(x_values) != 0 and (len(x_values) == len(y_values)), 'x and y cannot be empty and must have the same length'\n",
    "    k = len(x_values)\n",
    "    return sum(_basis(j)*y_values[j] for j in range(k)) "
   ]
  },
  {
   "cell_type": "markdown",
   "metadata": {},
   "source": [
    "### <span style=\"color:#19bfc2\">EXAMPLE 3.1</span>"
   ]
  },
  {
   "cell_type": "markdown",
   "metadata": {},
   "source": [
    "Find the interpolating polynomial for the data points $(0,1),(2,2),$ and $(3,4)$."
   ]
  },
  {
   "cell_type": "code",
   "execution_count": 3,
   "metadata": {},
   "outputs": [
    {
     "name": "stdout",
     "output_type": "stream",
     "text": [
      "The Lagrange polynomial is:\n"
     ]
    },
    {
     "data": {
      "text/latex": [
       "$\\displaystyle P_{2}(x) =  + \\frac{x^{2}}{2} - \\frac{x}{2} + 1$"
      ],
      "text/plain": [
       "P_{2}(x) =  + x**2/2 - x/2 + 1"
      ]
     },
     "execution_count": 3,
     "metadata": {},
     "output_type": "execute_result"
    }
   ],
   "source": [
    "points=[[0,1],[2,2],[3,4]]\n",
    "\n",
    "x=[p[0] for p in points]\n",
    "y=[p[1] for p in points]\n",
    "xs = Symbol('x')\n",
    "po = simplify(interpolate_lagrange(xs,x,y))\n",
    "\n",
    "d=len(x)-1\n",
    "\n",
    "print(\"The Lagrange polynomial is:\")\n",
    "ti=\"P_{%i}(x) = \" %d\n",
    "px=Symbol(ti)  \n",
    "pol=px+po\n",
    "pol"
   ]
  },
  {
   "cell_type": "code",
   "execution_count": 4,
   "metadata": {},
   "outputs": [
    {
     "data": {
      "image/png": "[encoded data removed]",
      "text/plain": [
       "<Figure size 504x360 with 1 Axes>"
      ]
     },
     "metadata": {
      "needs_background": "light"
     },
     "output_type": "display_data"
    }
   ],
   "source": [
    "x1 = np.linspace(min(x), max(x), 100)\n",
    "y1 = lambdify(xs, po)(x1)\n",
    "\n",
    "fig = plt.figure(figsize=(7,5))  \n",
    "ax = fig.add_subplot(1, 1, 1)\n",
    "# Move left y-axis and bottim x-axis to centre, passing through (0,0)\n",
    "ax.spines['left'].set_position('zero')  #'center')\n",
    "ax.spines['bottom'].set_position('zero')  #center')\n",
    "# Eliminate upper and right axes\n",
    "ax.spines['right'].set_color('none')\n",
    "ax.spines['top'].set_color('none')\n",
    "# Show ticks in the left and lower axes only\n",
    "ax.xaxis.set_ticks_position('bottom')\n",
    "ax.yaxis.set_ticks_position('left')\n",
    "plt.ylim([min(y)-1,max(y)+1])\n",
    "lti=\"$y = P_{%i}(x)$\" %d\n",
    "ax.plot(x1, y1,label=lti)\n",
    "ax.legend(loc='upper right')\n",
    "ax.scatter(x,y, c = 'r')\n",
    "plt.show()"
   ]
  },
  {
   "cell_type": "markdown",
   "metadata": {},
   "source": [
    "### <span style=\"color:#19bfc2\">EXAMPLE 3.2</span>"
   ]
  },
  {
   "cell_type": "markdown",
   "metadata": {},
   "source": [
    "Find the interpolating polynomial for the data points $(0, 2), (1, 1), (2, 0)$, and $(3, −1)$."
   ]
  },
  {
   "cell_type": "code",
   "execution_count": 5,
   "metadata": {},
   "outputs": [
    {
     "name": "stdout",
     "output_type": "stream",
     "text": [
      "The Lagrange polynomial is:\n"
     ]
    },
    {
     "data": {
      "text/latex": [
       "$\\displaystyle P_{2}(x) =  - x + 2$"
      ],
      "text/plain": [
       "P_{2}(x) =  - x + 2"
      ]
     },
     "execution_count": 5,
     "metadata": {},
     "output_type": "execute_result"
    }
   ],
   "source": [
    "points=[[0,2],[1,1],[2,0],[3,-1]]\n",
    "\n",
    "x=[p[0] for p in points]\n",
    "y=[p[1] for p in points]\n",
    "xs = Symbol('x')\n",
    "po = simplify(interpolate_lagrange(xs,x,y))\n",
    "\n",
    "d=2  #len(x)-1\n",
    "\n",
    "print(\"The Lagrange polynomial is:\")\n",
    "ti=\"P_{%i}(x) = \" %d\n",
    "px=Symbol(ti)  \n",
    "pol=px+po\n",
    "pol"
   ]
  },
  {
   "cell_type": "code",
   "execution_count": 6,
   "metadata": {},
   "outputs": [
    {
     "data": {
      "image/png": "[encoded data removed]",
      "text/plain": [
       "<Figure size 504x360 with 1 Axes>"
      ]
     },
     "metadata": {
      "needs_background": "light"
     },
     "output_type": "display_data"
    }
   ],
   "source": [
    "x1 = np.linspace(min(x), max(x), 100)\n",
    "y1 = lambdify(xs, po)(x1)\n",
    "\n",
    "fig = plt.figure(figsize=(7,5))  \n",
    "ax = fig.add_subplot(1, 1, 1)\n",
    "# Move left y-axis and bottim x-axis to centre, passing through (0,0)\n",
    "ax.spines['left'].set_position('zero')  #'center')\n",
    "ax.spines['bottom'].set_position('zero')  #center')\n",
    "# Eliminate upper and right axes\n",
    "ax.spines['right'].set_color('none')\n",
    "ax.spines['top'].set_color('none')\n",
    "# Show ticks in the left and lower axes only\n",
    "ax.xaxis.set_ticks_position('bottom')\n",
    "ax.yaxis.set_ticks_position('left')\n",
    "plt.ylim([min(y)-1,max(y)+1])\n",
    "lti=\"$y = P_{%i}(x)$\" %d\n",
    "ax.plot(x1, y1,label=lti)\n",
    "ax.legend(loc='upper right')\n",
    "ax.scatter(x,y, c = 'r')\n",
    "plt.show()"
   ]
  },
  {
   "cell_type": "markdown",
   "metadata": {},
   "source": [
    "### 3.1.2 Newton's divided differences"
   ]
  },
  {
   "cell_type": "markdown",
   "metadata": {},
   "source": [
    "*Notation*. Denote by $f[x_1 \\ldots x_n]$ the coefficient of the $x_{n−1}$ term in the (unique) polynomial that interpolates $(x_1,f(x_1)), \\ldots,(x_n,f(x_n))$.\n",
    "\n",
    "Using this notation, the following somewhat remarkable alternative formula for the interpolating polynomial holds, called the **Newton’s divided difference formula**:\n",
    "\n",
    "$$\n",
    "\\begin{align}\n",
    "P(x) = f[x_1] &+ f[x_1 \\,\\, x_2](x - x_1)\\\\\n",
    "&+f[x_1 \\,\\, x_2 \\,\\, x_3](x - x_1)(x - x_2)\\\\\n",
    "&+f[x_1 \\,\\, x_2 \\,\\, x_3 \\,\\, x_4](x - x_1)(x - x_2)(x - x_3)\\\\\n",
    "&+ \\cdots\\\\\n",
    "&+f[x_1 \\cdots x_n](x - x_1) \\cdots (x - x_{n-1})\n",
    "\\end{align}\n",
    "$$\n",
    "\n",
    "Moreover, the coefficients $f[x_1 \\cdots x_k]$ can be recursively calculated as follows:\n",
    "\n",
    "$$\n",
    "\\begin{align}\n",
    "f[x_k] &= f(x_k)\\\\\n",
    "f[x_k \\,\\, x_{k+1}] &= \\frac{f[x_{k+1}] - f[x_k]}{x_{k+1} - x_k}\\\\\n",
    "f[x_k \\,\\, x_{k+1} \\,\\, x_{k+2}] &= \\frac{f[x_{k+1} \\,\\, x_{k+2}] - f[x_k \\,\\, x_{k+1}]}{x_{k+2} - x_k}\\\\\n",
    "f[x_k \\,\\, x_{k+1} \\,\\, x_{k+2} \\,\\, x_{k+3}] &= \\frac{f[x_{k+1} \\,\\, x_{k+2} \\,\\, x_{k+3}] - f[x_k \\,\\, x_{k+1} \\,\\, x_{k+2}]}{x_{k+3} - x_k}\\\\\n",
    "&\\mbox{and so on}\n",
    "\\end{align}\n",
    "$$"
   ]
  },
  {
   "cell_type": "code",
   "execution_count": 7,
   "metadata": {},
   "outputs": [],
   "source": [
    "def getNDDCoeffs(x, y):\n",
    "    \"\"\" Creates NDD pyramid and extracts coeffs \"\"\"\n",
    "    n = np.shape(y)[0]\n",
    "    pyramid = np.zeros([n, n]) # Create a square matrix to hold pyramid\n",
    "    pyramid[::,0] = y # first column is y\n",
    "    for j in range(1,n):\n",
    "        for i in range(n-j):\n",
    "            # create pyramid by updating other columns\n",
    "            pyramid[i][j] = (pyramid[i+1][j-1] - pyramid[i][j-1]) / (x[i+j] - x[i])\n",
    "    return pyramid[0] # return first row\n",
    "\n",
    "def NDD_poly(coeff_vector,x,nt=0):\n",
    "    # create the unique polynomial of degree at most equal to size of data minus one \n",
    "    final_pol = np.polynomial.Polynomial([0.]) # our target polynomial\n",
    "    n = coeff_vector.shape[0] # get number of coeffs\n",
    "    for i in range(n):\n",
    "        p = np.polynomial.Polynomial([1.]) # create a dummy polynomial\n",
    "        for j in range(i):\n",
    "            # each vector has degree of i\n",
    "            # their terms are dependant on 'x' values\n",
    "            p_temp = np.polynomial.Polynomial([-x[j], 1.]) # (x - x_j)\n",
    "            p = np.polymul(p, p_temp) # multiply dummy with expression\n",
    "        p *= coeff_vector[i] # apply coefficient\n",
    "        final_pol = np.polyadd(final_pol, p) # add to target polynomial\n",
    "    p = np.flip(final_pol[0].coef, axis=0)\n",
    "    y=Symbol('x')\n",
    "    pp = []\n",
    "    for i in p.tolist():\n",
    "        if nt==0:\n",
    "            pp.append(Rational(i))\n",
    "        else:\n",
    "            pp.append(i)\n",
    "    p1=Poly(pp, y)\n",
    "    return p1.as_expr()"
   ]
  },
  {
   "cell_type": "markdown",
   "metadata": {},
   "source": [
    "### <span style=\"color:#19bfc2\">EXAMPLE 3.3</span>"
   ]
  },
  {
   "cell_type": "markdown",
   "metadata": {},
   "source": [
    "Use divided differences to find the interpolating polynomial passing through the points $(0, 1), (2, 2), (3, 4)$."
   ]
  },
  {
   "cell_type": "code",
   "execution_count": 8,
   "metadata": {},
   "outputs": [
    {
     "name": "stdout",
     "output_type": "stream",
     "text": [
      "The upper side of Newton's divided difference triangle is: [1.  0.5 0.5]\n"
     ]
    }
   ],
   "source": [
    "points=[[0,1],[2,2],[3,4]]\n",
    "\n",
    "x=np.array([p[0] for p in points])\n",
    "y=np.array([p[1] for p in points])\n",
    "\n",
    "coeff_vector = getNDDCoeffs(x, y)\n",
    "print(\"The upper side of Newton's divided difference triangle is:\",coeff_vector)"
   ]
  },
  {
   "cell_type": "code",
   "execution_count": 9,
   "metadata": {},
   "outputs": [
    {
     "name": "stdout",
     "output_type": "stream",
     "text": [
      "The Newton's divided difference polynomial is:\n"
     ]
    },
    {
     "data": {
      "text/latex": [
       "$\\displaystyle P_{2}(x) =  + \\frac{x^{2}}{2} - \\frac{x}{2} + 1$"
      ],
      "text/plain": [
       "P_{2}(x) =  + x**2/2 - x/2 + 1"
      ]
     },
     "execution_count": 9,
     "metadata": {},
     "output_type": "execute_result"
    }
   ],
   "source": [
    "print(\"The Newton's divided difference polynomial is:\")\n",
    "sp=NDD_poly(coeff_vector,x)\n",
    "\n",
    "d=len(x)-1\n",
    "\n",
    "ti=\"P_{%i}(x) = \" %d\n",
    "px=Symbol(ti)  \n",
    "spl=px+sp\n",
    "spl"
   ]
  },
  {
   "cell_type": "markdown",
   "metadata": {},
   "source": [
    "### <span style=\"color:#19bfc2\">EXAMPLE 3.4</span>"
   ]
  },
  {
   "cell_type": "markdown",
   "metadata": {},
   "source": [
    "Add the fourth data point $(1,0)$ to the list in Example 3.3."
   ]
  },
  {
   "cell_type": "code",
   "execution_count": 10,
   "metadata": {},
   "outputs": [
    {
     "name": "stdout",
     "output_type": "stream",
     "text": [
      "The upper side of Newton's divided difference triangle is: [ 1.   0.5  0.5 -0.5]\n"
     ]
    }
   ],
   "source": [
    "points=[[0,1],[2,2],[3,4],[1,0]]\n",
    "\n",
    "x=np.array([p[0] for p in points])\n",
    "y=np.array([p[1] for p in points])\n",
    "\n",
    "coeff_vector = getNDDCoeffs(x, y)\n",
    "print(\"The upper side of Newton's divided difference triangle is:\",coeff_vector)"
   ]
  },
  {
   "cell_type": "code",
   "execution_count": 11,
   "metadata": {},
   "outputs": [
    {
     "name": "stdout",
     "output_type": "stream",
     "text": [
      "The Newton's divided difference polynomial is:\n"
     ]
    },
    {
     "data": {
      "text/latex": [
       "$\\displaystyle P_{3}(x) =  - \\frac{x^{3}}{2} + 3 x^{2} - \\frac{7 x}{2} + 1$"
      ],
      "text/plain": [
       "P_{3}(x) =  - x**3/2 + 3*x**2 - 7*x/2 + 1"
      ]
     },
     "execution_count": 11,
     "metadata": {},
     "output_type": "execute_result"
    }
   ],
   "source": [
    "print(\"The Newton's divided difference polynomial is:\")\n",
    "sp=NDD_poly(coeff_vector,x)\n",
    "\n",
    "d=len(x)-1\n",
    "\n",
    "ti=\"P_{%i}(x) = \" %d\n",
    "px=Symbol(ti)  \n",
    "spl=px+sp\n",
    "spl"
   ]
  },
  {
   "cell_type": "markdown",
   "metadata": {},
   "source": [
    "### <span style=\"color:#19bfc2\">EXAMPLE 3.5</span>"
   ]
  },
  {
   "cell_type": "markdown",
   "metadata": {},
   "source": [
    "Use Newton’s divided differences to find the interpolating polynomial passing through $(0, 2), (1, 1), (2, 0), (3, −1)$."
   ]
  },
  {
   "cell_type": "code",
   "execution_count": 12,
   "metadata": {},
   "outputs": [
    {
     "name": "stdout",
     "output_type": "stream",
     "text": [
      "The upper side of Newton's divided differences triangle is: [ 2. -1.  0.  0.]\n"
     ]
    }
   ],
   "source": [
    "points=[[0,2],[1,1],[2,0],[3,-1]]\n",
    "\n",
    "x=[p[0] for p in points]\n",
    "y=[p[1] for p in points]\n",
    "\n",
    "coeff_vector = getNDDCoeffs(x, y)\n",
    "print(\"The upper side of Newton's divided differences triangle is:\",coeff_vector)"
   ]
  },
  {
   "cell_type": "code",
   "execution_count": 13,
   "metadata": {},
   "outputs": [
    {
     "name": "stdout",
     "output_type": "stream",
     "text": [
      "The Newton's divided difference polynomial is:\n"
     ]
    },
    {
     "data": {
      "text/latex": [
       "$\\displaystyle P_{1}(x) =  - x + 2$"
      ],
      "text/plain": [
       "P_{1}(x) =  - x + 2"
      ]
     },
     "execution_count": 13,
     "metadata": {},
     "output_type": "execute_result"
    }
   ],
   "source": [
    "print(\"The Newton's divided difference polynomial is:\")\n",
    "sp=NDD_poly(coeff_vector,x)\n",
    "\n",
    "d=1 #len(x)-1\n",
    "\n",
    "ti=\"P_{%i}(x) = \" %d\n",
    "px=Symbol(ti)  \n",
    "spl=px+sp\n",
    "spl"
   ]
  },
  {
   "cell_type": "markdown",
   "metadata": {},
   "source": [
    "### 3.1.3 How many degree $d$ polynomials pass through $n$ points?"
   ]
  },
  {
   "cell_type": "markdown",
   "metadata": {},
   "source": [
    "Let $P_{n-1}(x)$ be the unique polynomial of degree $\\leq n - 1$ interpolating the $n$ points $(x_1,y_1), \\ldots, (x_n,y_n)$. Then, for every $m \\geq n$, there exist infinitely many polynomials of degree $m$ given by the following one-parametric family of polynomials:\n",
    "\n",
    "$$P_m(x) = P_{n-1}(x) + c x^{m - n + 1} (x - x_1) \\cdots (x - x_n)$$"
   ]
  },
  {
   "cell_type": "code",
   "execution_count": 14,
   "metadata": {},
   "outputs": [],
   "source": [
    "def NDD_poly_higher(coeff_vector,xv,d,nt=0):\n",
    "    # create an one-parametric family of polynomials of degree at least equal to size of data\n",
    "    # d = m - n\n",
    "    final_pol = np.polynomial.Polynomial([0.]) # our target polynomial\n",
    "    n = coeff_vector.shape[0] # get number of coeffs\n",
    "    for i in range(n):\n",
    "        p = np.polynomial.Polynomial([1.]) # create a dummy polynomial\n",
    "        for j in range(i):\n",
    "            # each vector has degree of i\n",
    "            # their terms are dependant on 'x' values\n",
    "            p_temp = np.polynomial.Polynomial([-x[j], 1.]) # (x - x_j)\n",
    "            p = np.polymul(p, p_temp) # multiply dummy with expression\n",
    "        p *= coeff_vector[i] # apply coefficient\n",
    "        final_pol = np.polyadd(final_pol, p) # add to target polynomial\n",
    "    p = np.flip(final_pol[0].coef, axis=0)\n",
    "    y=Symbol('x')\n",
    "    pp = []\n",
    "    for i in p.tolist():\n",
    "        if nt==0:\n",
    "            pp.append(Rational(i))\n",
    "        else:\n",
    "            pp.append(i)\n",
    "#         pp.append(Rational(i))\n",
    "    pl=Poly(pp, y)\n",
    "    c=Symbol('c')\n",
    "    lp=None\n",
    "    xx=xv.copy()\n",
    "    if d>0:\n",
    "        for i in range(d):\n",
    "            xx.append(0)\n",
    "    for i in xx:\n",
    "        if lp ==None:\n",
    "            lp = Poly(y-i)\n",
    "        else:\n",
    "            lp *= Poly(y-i)\n",
    "    llp=pl + c*lp\n",
    "    sti='P_{%i}(x)' %(n-1)\n",
    "    px=Symbol(sti)\n",
    "    plx = px + c*lp\n",
    "    return plx.as_expr(), llp.as_expr(), factor(lp), factor(lp)*c + px"
   ]
  },
  {
   "cell_type": "markdown",
   "metadata": {},
   "source": [
    "### <span style=\"color:#19bfc2\">EXAMPLE 3.6</span>"
   ]
  },
  {
   "cell_type": "markdown",
   "metadata": {},
   "source": [
    "How many polynomials of each degree $0 \\leq d \\leq 5$ pass through the points $(−1, −5), (0,−1),(2,1)$, and $(3,11)$?"
   ]
  },
  {
   "cell_type": "code",
   "execution_count": 15,
   "metadata": {},
   "outputs": [
    {
     "name": "stdout",
     "output_type": "stream",
     "text": [
      "The upper side of Newton's divided differences triangle is: [-5.  4. -1.  1.]\n",
      "The Newton's divided difference polynomial is:\n"
     ]
    },
    {
     "data": {
      "text/latex": [
       "$\\displaystyle P_{3}(x) =  + x^{3} - 2 x^{2} + x - 1$"
      ],
      "text/plain": [
       "P_{3}(x) =  + x**3 - 2*x**2 + x - 1"
      ]
     },
     "execution_count": 15,
     "metadata": {},
     "output_type": "execute_result"
    }
   ],
   "source": [
    "# There is a unique polynomial of degree 3 interpolating the four points. \n",
    "# Therefore there are no interpolating polynomials of degrees 0, 1, and 2.\n",
    "\n",
    "points=[[-1,-5],[0,-1],[2,1],[3,11]]\n",
    "\n",
    "x=[p[0] for p in points]\n",
    "y=[p[1] for p in points]\n",
    "\n",
    "coeff_vector = getNDDCoeffs(x, y)\n",
    "print(\"The upper side of Newton's divided differences triangle is:\",coeff_vector)\n",
    "print(\"The Newton's divided difference polynomial is:\")\n",
    "sp=NDD_poly(coeff_vector,x)\n",
    "\n",
    "d=len(x)-1\n",
    "\n",
    "ti=\"P_{%i}(x) = \" %d\n",
    "px=Symbol(ti)  \n",
    "spl=px+sp\n",
    "spl"
   ]
  },
  {
   "cell_type": "code",
   "execution_count": 16,
   "metadata": {},
   "outputs": [
    {
     "name": "stdout",
     "output_type": "stream",
     "text": [
      "The infinitely many polynomials of degree 4 are:\n"
     ]
    },
    {
     "data": {
      "text/latex": [
       "$\\displaystyle P_{3}(x) + c x \\left(x - 3\\right) \\left(x - 2\\right) \\left(x + 1\\right)$"
      ],
      "text/plain": [
       "P_{3}(x) + c*x*(x - 3)*(x - 2)*(x + 1)"
      ]
     },
     "execution_count": 16,
     "metadata": {},
     "output_type": "execute_result"
    }
   ],
   "source": [
    "# The infinitely many polynomials of degree 4 are given by:\n",
    "\n",
    "n=len(x)\n",
    "first=NDD_poly_higher(coeff_vector,x,0)[3]\n",
    "print(\"The infinitely many polynomials of degree %i are:\" %n)\n",
    "sp=first\n",
    "sp"
   ]
  },
  {
   "cell_type": "code",
   "execution_count": 17,
   "metadata": {},
   "outputs": [
    {
     "name": "stdout",
     "output_type": "stream",
     "text": [
      "The infinitely many polynomials of degree 4 are in expanded form:\n"
     ]
    },
    {
     "data": {
      "text/latex": [
       "$\\displaystyle P_{4}(x) =  + c x^{4} + x^{3} \\left(1 - 4 c\\right) + x^{2} \\left(c - 2\\right) + x \\left(6 c + 1\\right) - 1$"
      ],
      "text/plain": [
       "P_{4}(x) =  + c*x**4 + x**3*(1 - 4*c) + x**2*(c - 2) + x*(6*c + 1) - 1"
      ]
     },
     "execution_count": 17,
     "metadata": {},
     "output_type": "execute_result"
    }
   ],
   "source": [
    "second=NDD_poly_higher(coeff_vector,x,0)[1]\n",
    "d=n\n",
    "print(\"The infinitely many polynomials of degree %i are in expanded form:\" %d)\n",
    "sp=second\n",
    "\n",
    "ti=\"P_{%i}(x) = \" %d\n",
    "px=Symbol(ti)  \n",
    "spl=px+sp\n",
    "spl"
   ]
  },
  {
   "cell_type": "code",
   "execution_count": 18,
   "metadata": {},
   "outputs": [
    {
     "name": "stdout",
     "output_type": "stream",
     "text": [
      "The infinitely many polynomials of degree 5 are:\n"
     ]
    },
    {
     "data": {
      "text/latex": [
       "$\\displaystyle P_{3}(x) + c x^{2} \\left(x - 3\\right) \\left(x - 2\\right) \\left(x + 1\\right)$"
      ],
      "text/plain": [
       "P_{3}(x) + c*x**2*(x - 3)*(x - 2)*(x + 1)"
      ]
     },
     "execution_count": 18,
     "metadata": {},
     "output_type": "execute_result"
    }
   ],
   "source": [
    "# The infinitely many polynomials of degree 5 are given by:\n",
    "\n",
    "n=len(x)\n",
    "first=NDD_poly_higher(coeff_vector,x,1)[3]\n",
    "print(\"The infinitely many polynomials of degree %i are:\" %(n+1))\n",
    "first"
   ]
  },
  {
   "cell_type": "code",
   "execution_count": 19,
   "metadata": {},
   "outputs": [
    {
     "name": "stdout",
     "output_type": "stream",
     "text": [
      "The infinitely many polynomials of degree 5 are in expanded form:\n"
     ]
    },
    {
     "data": {
      "text/latex": [
       "$\\displaystyle P_{5}(x) =  + c x^{5} - 4 c x^{4} + x^{3} \\left(c + 1\\right) + x^{2} \\left(6 c - 2\\right) + x - 1$"
      ],
      "text/plain": [
       "P_{5}(x) =  + c*x**5 - 4*c*x**4 + x**3*(c + 1) + x**2*(6*c - 2) + x - 1"
      ]
     },
     "execution_count": 19,
     "metadata": {},
     "output_type": "execute_result"
    }
   ],
   "source": [
    "second=NDD_poly_higher(coeff_vector,x,1)[1]\n",
    "d=n+1\n",
    "print(\"The infinitely many polynomials of degree %i are in expanded form:\" %d)\n",
    "sp=second\n",
    "\n",
    "ti=\"P_{%i}(x) = \" %d\n",
    "px=Symbol(ti)  \n",
    "spl=px+sp\n",
    "spl"
   ]
  },
  {
   "cell_type": "markdown",
   "metadata": {},
   "source": [
    "### 3.1.5 Representing functions by approximating polynomials"
   ]
  },
  {
   "cell_type": "markdown",
   "metadata": {},
   "source": [
    "A major use of polynomial interpolation is to replace evaluation of a complicated function by evaluation of a polynomial, which involves only elementary computer operations like addition, subtraction, and multiplication. Think of this as a form of compression: Something complex is replaced with something simpler and computable, with perhaps some loss in accuracy that we will have to analyze. Let us give an example from trigonometry."
   ]
  },
  {
   "cell_type": "markdown",
   "metadata": {},
   "source": [
    "### <span style=\"color:#19bfc2\">EXAMPLE 3.7</span>"
   ]
  },
  {
   "cell_type": "markdown",
   "metadata": {},
   "source": [
    "Interpolate the function $f(x) = sin x$ at 4 equally spaced points on $[0,\\pi/2]$."
   ]
  },
  {
   "cell_type": "code",
   "execution_count": 20,
   "metadata": {},
   "outputs": [
    {
     "name": "stdout",
     "output_type": "stream",
     "text": [
      "The upper side of Newton's divided differences triangle is: [ 0.          0.95492966 -0.24434036 -0.1138719 ]\n",
      "The Newton's divided difference polynomial is:\n"
     ]
    },
    {
     "data": {
      "text/latex": [
       "$\\displaystyle P_{3}(x) =  - 0.113871899071412 x^{3} - 0.0654708032116358 x^{2} + 1.02042871862363 x$"
      ],
      "text/plain": [
       "P_{3}(x) =  - 0.113871899071412*x**3 - 0.0654708032116358*x**2 + 1.02042871862363*x"
      ]
     },
     "execution_count": 20,
     "metadata": {},
     "output_type": "execute_result"
    }
   ],
   "source": [
    "x=[0.,np.pi/6,np.pi/3, np.pi/2]\n",
    "y=[np.sin(a) for a in x]\n",
    "\n",
    "coeff_vector = getNDDCoeffs(x, y)\n",
    "print(\"The upper side of Newton's divided differences triangle is:\",coeff_vector)\n",
    "print(\"The Newton's divided difference polynomial is:\")\n",
    "sp=NDD_poly(coeff_vector,x,nt=1)\n",
    "\n",
    "d=len(x)-1\n",
    "\n",
    "ti=\"P_{%i}(x) = \" %d\n",
    "px=Symbol(ti)  \n",
    "spl=px+sp\n",
    "spl"
   ]
  },
  {
   "cell_type": "code",
   "execution_count": 21,
   "metadata": {},
   "outputs": [
    {
     "data": {
      "image/png": "[encoded data removed]",
      "text/plain": [
       "<Figure size 720x576 with 1 Axes>"
      ]
     },
     "metadata": {
      "needs_background": "light"
     },
     "output_type": "display_data"
    }
   ],
   "source": [
    "cop=poly(sp).coeffs()\n",
    "cop=np.array(cop)\n",
    "\n",
    "missing_powers_indices=[len(cop)]\n",
    "for k in missing_powers_indices:\n",
    "    cop=np.insert(cop,k,float(0))\n",
    "\n",
    "ip=np.poly1d(cop)\n",
    "\n",
    "fig = plt.figure(figsize=(10,8))  \n",
    "ax = fig.add_subplot(1, 1, 1)\n",
    "# Move left y-axis and bottim x-axis to centre, passing through (0,0)\n",
    "ax.spines['left'].set_position('center')\n",
    "ax.spines['bottom'].set_position('zero')  #center')\n",
    "# Eliminate upper and right axes\n",
    "ax.spines['right'].set_color('none')\n",
    "ax.spines['top'].set_color('none')\n",
    "# Show ticks in the left and lower axes only\n",
    "ax.xaxis.set_ticks_position('bottom')\n",
    "ax.yaxis.set_ticks_position('left')\n",
    "plt.ylim([min(y)-1,max(y)+0.1])\n",
    "xx = np.linspace(-max(x), max(x), 100)\n",
    "lti1=\"$y = P_{%i}(x)$\" %d\n",
    "plt.plot(xx, ip(xx),label=lti1)\n",
    "ax.scatter(x,y, c = 'r')\n",
    "lti2=\"$y = \\sin x$\" \n",
    "plt.plot(xx, np.sin(xx),label=lti2)\n",
    "ax.legend(loc='upper left')\n",
    "plt.show()"
   ]
  },
  {
   "cell_type": "markdown",
   "metadata": {},
   "source": [
    "## 3.2 Interpolation Error"
   ]
  },
  {
   "cell_type": "markdown",
   "metadata": {},
   "source": [
    "### 3.2.1 Interpolation error formula"
   ]
  },
  {
   "cell_type": "markdown",
   "metadata": {},
   "source": [
    "Assume that we start with a function $y = f(x)$ and take data points from it to build an interpolating polynomial $P(x)$. The **interpolation error** at $x$ is $f(x) − P(x)$, the difference between the original function that provided the data points and the interpolating polynomial, evaluated at $x$. In other words, the interpolation error is the vertical distance between the curves $y = f(x)$ and $y_p = P(x)$. \n",
    "\n",
    "*Theorem*. Assume that $P(x)$ is the (degree $n - 1$ or less) interpolating polynomial fitting the $n$ points $(x_1,y_1), \\ldots, (x_n,y_n)$. If $f$ is $n$ times differentiable, then the interpolation error is:\n",
    "\n",
    "$$f(x) - P(x) = \\frac{(x - x_1)(x - x_2) \\cdots (x - x_n)}{n!} f^{(n)}(c),$$\n",
    "\n",
    "where $c$ lies between the smallest and largest of the numbers $x, x_1, \\ldots, x_n$."
   ]
  },
  {
   "cell_type": "markdown",
   "metadata": {},
   "source": [
    "### <span style=\"color:#19bfc2\">EXAMPLE 3.8</span>"
   ]
  },
  {
   "cell_type": "markdown",
   "metadata": {},
   "source": [
    "Find an upper bound for the difference at $x = 0.25$ and $x = 0.75$ between $f(x) = e^x$ and\n",
    "the polynomial that interpolates it at the points $−1, −0.5, 0, 0.5, 1$."
   ]
  },
  {
   "cell_type": "code",
   "execution_count": 22,
   "metadata": {},
   "outputs": [
    {
     "name": "stdout",
     "output_type": "stream",
     "text": [
      "An upper bound of the interpolation error at 0.25 is 0.000995\n",
      "An upper bound of the interpolation error at 0.75 is 0.002323\n"
     ]
    }
   ],
   "source": [
    "x=[-1, -0.5, 0, 0.5, 1]\n",
    "y=[np.exp(a) for a in x]\n",
    "n=len(x)\n",
    "nf=np.math.factorial(n)\n",
    "\n",
    "# Since the point c is in [-1,1] and the derivative of e^x is still e^x, which is an increasing function,\n",
    "# the term f^(n)(c) is bounded by just e\n",
    "\n",
    "def g(z):\n",
    "    p=1\n",
    "    for i in np.arange(n):\n",
    "        p*=(z-x[i])\n",
    "    return abs(p*np.exp(1)/nf)\n",
    "\n",
    "pois=[0.25,0.75]\n",
    "\n",
    "for i in pois:\n",
    "    print(\"An upper bound of the interpolation error at %.2f is %.6f\" %(i,g(i)))"
   ]
  },
  {
   "cell_type": "code",
   "execution_count": 23,
   "metadata": {},
   "outputs": [
    {
     "name": "stdout",
     "output_type": "stream",
     "text": [
      "The upper side of Newton's divided differences triangle is: [0.36787944 0.47730244 0.30963624 0.13391174 0.0434357 ]\n",
      "The Newton's divided difference polynomial is:\n"
     ]
    },
    {
     "data": {
      "text/latex": [
       "$\\displaystyle P_{4}(x) =  + 0.0434356986529606 x^{4} + 0.177347443541742 x^{3} + 0.499644936162283 x^{2} + 0.997853750102059 x + 1.0$"
      ],
      "text/plain": [
       "P_{4}(x) =  + 0.0434356986529606*x**4 + 0.177347443541742*x**3 + 0.499644936162283*x**2 + 0.997853750102059*x + 1.0"
      ]
     },
     "execution_count": 23,
     "metadata": {},
     "output_type": "execute_result"
    }
   ],
   "source": [
    "x=[-1, -0.5, 0, 0.5, 1]\n",
    "y=[np.exp(a) for a in x]\n",
    "\n",
    "coeff_vector = getNDDCoeffs(x, y)\n",
    "print(\"The upper side of Newton's divided differences triangle is:\",coeff_vector)\n",
    "print(\"The Newton's divided difference polynomial is:\")\n",
    "sp=NDD_poly(coeff_vector,x,nt=1)\n",
    "\n",
    "d=len(x)-1\n",
    "\n",
    "ti=\"P_{%i}(x) = \" %d\n",
    "px=Symbol(ti)  \n",
    "spl=px+sp\n",
    "spl"
   ]
  },
  {
   "cell_type": "code",
   "execution_count": 24,
   "metadata": {},
   "outputs": [
    {
     "name": "stdout",
     "output_type": "stream",
     "text": [
      "The actual interpolation error at 0.25 is 0.000393\n",
      "The actual interpolation error at 0.75 is 0.001002\n"
     ]
    }
   ],
   "source": [
    "cop=poly(sp).coeffs()\n",
    "cop=np.array(cop)\n",
    "\n",
    "missing_powers_indices=[]\n",
    "\n",
    "ip=np.poly1d(cop)\n",
    "\n",
    "pois=[0.25,0.75]\n",
    "\n",
    "for i in pois:\n",
    "    print(\"The actual interpolation error at %.2f is %.6f\" %(i,abs(np.exp(i)-ip(i))))"
   ]
  },
  {
   "cell_type": "markdown",
   "metadata": {},
   "source": [
    "### 3.2.3 Runge phenomenon"
   ]
  },
  {
   "cell_type": "markdown",
   "metadata": {},
   "source": [
    "The so-called **Runge phenomenon** is usually used to describe extreme \"polynomial wiggle\" associated with high-degree polynomial interpolation at evenly spaced points, occurring when the interpolating polynomial that goes through certain points refuses to stay between (say) 0 and 1, unlike the data points. "
   ]
  },
  {
   "cell_type": "markdown",
   "metadata": {},
   "source": [
    "### <span style=\"color:#19bfc2\">EXAMPLE 3.9</span>"
   ]
  },
  {
   "cell_type": "markdown",
   "metadata": {},
   "source": [
    "Interpolate $f(x) = \\frac{1}{1 + 12 x^2}$ at evenly spaced points in $[-1,1]$."
   ]
  },
  {
   "cell_type": "code",
   "execution_count": 25,
   "metadata": {},
   "outputs": [
    {
     "data": {
      "text/latex": [
       "$\\displaystyle P_{6}(x) =  - 0.0248873014272752 x^{6} + 0.350496161767459 x^{4} - 1.24868578341711 x^{2} + 2.77555756156289 \\cdot 10^{-16} x + 1.0$"
      ],
      "text/plain": [
       "P_{6}(x) =  - 0.0248873014272752*x**6 + 0.350496161767459*x**4 - 1.24868578341711*x**2 + 2.77555756156289e-16*x + 1.0"
      ]
     },
     "execution_count": 25,
     "metadata": {},
     "output_type": "execute_result"
    }
   ],
   "source": [
    "x=[-3,-2,-1,0,1,2,3]\n",
    "f = lambda z: 1/(1+12*z**2)\n",
    "y=[f(a) for a in x]\n",
    "d=len(x)-1\n",
    "\n",
    "coeff_vector = getNDDCoeffs(x, y)\n",
    "sp=NDD_poly(coeff_vector,x,nt=1)\n",
    "\n",
    "d=len(x)-1\n",
    "\n",
    "ti=\"P_{%i}(x) = \" %d\n",
    "px=Symbol(ti)  \n",
    "spl=px+sp\n",
    "spl"
   ]
  },
  {
   "cell_type": "code",
   "execution_count": 26,
   "metadata": {},
   "outputs": [
    {
     "data": {
      "image/png": "[encoded data removed]",
      "text/plain": [
       "<Figure size 720x576 with 1 Axes>"
      ]
     },
     "metadata": {
      "needs_background": "light"
     },
     "output_type": "display_data"
    }
   ],
   "source": [
    "cop=poly(sp).coeffs()\n",
    "cop=np.array(cop)\n",
    "\n",
    "missing_powers_indices=[1,3]\n",
    "for k in missing_powers_indices:\n",
    "    cop=np.insert(cop,k,float(0))\n",
    "    \n",
    "ip=np.poly1d(cop)\n",
    "\n",
    "fig = plt.figure(figsize=(10,8))  \n",
    "ax = fig.add_subplot(1, 1, 1)\n",
    "# Move left y-axis and bottim x-axis to centre, passing through (0,0)\n",
    "ax.spines['left'].set_position('center')\n",
    "ax.spines['bottom'].set_position('zero')  #center')\n",
    "# Eliminate upper and right axes\n",
    "ax.spines['right'].set_color('none')\n",
    "ax.spines['top'].set_color('none')\n",
    "# Show ticks in the left and lower axes only\n",
    "ax.xaxis.set_ticks_position('bottom')\n",
    "ax.yaxis.set_ticks_position('left')\n",
    "plt.ylim([min(y)-0.5,max(y)+0.1])\n",
    "xx = np.linspace(-max(x), max(x), 100)\n",
    "lti1=\"$y = P_{%i}(x)$\" %d\n",
    "plt.plot(xx, ip(xx),label=lti1)\n",
    "ax.scatter(x,y, c = 'r')\n",
    "lti2=\"$y = 1/(1 + 12 x^2)$\" \n",
    "plt.plot(xx, f(xx),label=lti2)\n",
    "ax.legend(loc='lower right')\n",
    "plt.show()"
   ]
  },
  {
   "cell_type": "code",
   "execution_count": null,
   "metadata": {},
   "outputs": [],
   "source": []
  }
 ],
 "metadata": {
  "kernelspec": {
   "display_name": "Python 3",
   "language": "python",
   "name": "python3"
  },
  "language_info": {
   "codemirror_mode": {
    "name": "ipython",
    "version": 3
   },
   "file_extension": ".py",
   "mimetype": "text/x-python",
   "name": "python",
   "nbconvert_exporter": "python",
   "pygments_lexer": "ipython3",
   "version": "3.7.0"
  }
 },
 "nbformat": 4,
 "nbformat_minor": 2
}
